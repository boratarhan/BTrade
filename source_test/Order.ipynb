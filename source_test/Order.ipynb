{
 "cells": [
  {
   "cell_type": "code",
   "execution_count": 26,
   "metadata": {
    "collapsed": true
   },
   "outputs": [],
   "source": [
    "import oandapyV20\n",
    "import oandapyV20.endpoints.instruments as instruments\n",
    "import oandapyV20.endpoints.pricing as pricing\n",
    "import oandapyV20.endpoints.accounts as accounts\n",
    "import oandapyV20.endpoints.orders as orders\n",
    "from oandapyV20.exceptions import V20Error\n",
    "import zmq\n",
    "import pandas as pd\n",
    "import tables \n",
    "import tstables  \n",
    "import datetime\n",
    "import configparser\n",
    "import time\n",
    "import utility_functions as uf\n",
    "import threading\n",
    "import os\n",
    "\n",
    "try:\n",
    "    config = configparser.ConfigParser()\n",
    "    config.read('..\\..\\configinfo.cfg')\n",
    "\n",
    "except:\n",
    "    print( 'Error in reading configuration file' )\n",
    "\n",
    "accountID = config['oanda_v20']['account_number_practice']\n",
    "access_token = config['oanda_v20']['access_token_practice']\n",
    "api = oandapyV20.API(access_token=access_token)\n",
    "\n",
    "symbol = 'USD_TRY'\n",
    "units = '1'"
   ]
  },
  {
   "cell_type": "code",
   "execution_count": 27,
   "metadata": {
    "collapsed": false
   },
   "outputs": [],
   "source": [
    "def market_order(symbol, units):\n",
    "\n",
    "    order = { \"order\": {\"type\": \"MARKET\",\n",
    "                                \"instrument\": symbol,\n",
    "                                \"units\": units,\n",
    "                                \"timeInForce\": \"FOK\",\n",
    "                                \"positionFill\": \"DEFAULT\" } }\n",
    "    \n",
    "    return order      "
   ]
  },
  {
   "cell_type": "code",
   "execution_count": 50,
   "metadata": {
    "collapsed": true
   },
   "outputs": [],
   "source": [
    "def limit_order(symbol, units, entryprice, exitprice):\n",
    "\n",
    "    order = { \"order\": { \"type\": \"LIMIT\", \n",
    "                         \"instrument\": symbol, \n",
    "                         \"units\": units, \n",
    "                         \"price\": entryprice, \n",
    "                         \"stopLossOnFill\": { \"timeInForce\": \"GTC\", \"price\": exitprice }, \n",
    "                         \"timeInForce\": \"GTC\", \n",
    "                         \"positionFill\": \"DEFAULT\" }}\n",
    "\n",
    "    return order  "
   ]
  },
  {
   "cell_type": "code",
   "execution_count": 56,
   "metadata": {
    "collapsed": false
   },
   "outputs": [],
   "source": [
    "def limit_order(symbol, units, entryprice):\n",
    "\n",
    "    order = { \"order\": { \"type\": \"LIMIT\", \n",
    "                         \"instrument\": symbol, \n",
    "                         \"units\": units, \n",
    "                         \"price\": entryprice, \n",
    "                         \"timeInForce\": \"GTC\", \n",
    "                         \"positionFill\": \"DEFAULT\" }}\n",
    "\n",
    "    return order  "
   ]
  },
  {
   "cell_type": "code",
   "execution_count": null,
   "metadata": {
    "collapsed": true
   },
   "outputs": [],
   "source": [
    "def limit_order(symbol, units, entryprice, stoplossprice, takeprofitprice):\n",
    "\n",
    "    order = { \"order\": { \"type\": \"LIMIT\", \n",
    "                         \"instrument\": symbol, \n",
    "                         \"units\": units, \n",
    "                         \"price\": entryprice, \n",
    "                         \"stopLossOnFill\": { \"timeInForce\": \"GTC\", \"price\": stoplossprice }, \n",
    "                         \"takeProfitOnFill\": { \"timeInForce\": \"GTC\", \"price\": takeprofitprice },\n",
    "                         \"timeInForce\": \"GTC\", \n",
    "                         \"positionFill\": \"DEFAULT\" }}\n",
    "\n",
    "    return order  "
   ]
  },
  {
   "cell_type": "code",
   "execution_count": 59,
   "metadata": {
    "collapsed": true
   },
   "outputs": [],
   "source": [
    "def stop_order(symbol, units, entryprice, stoplossprice, takeprofitprice):\n",
    "\n",
    "    order = { \"order\": { \"type\": \"STOP\", \n",
    "                         \"instrument\": symbol, \n",
    "                         \"units\": units, \n",
    "                         \"price\": entryprice, \n",
    "                         \"stopLossOnFill\": { \"timeInForce\": \"GTC\", \"price\": stoplossprice }, \n",
    "                         \"takeProfitOnFill\": { \"timeInForce\": \"GTC\", \"price\": takeprofitprice },\n",
    "                         \"timeInForce\": \"GTC\", \n",
    "                         \"positionFill\": \"DEFAULT\" }}\n",
    "\n",
    "    return order  \n"
   ]
  },
  {
   "cell_type": "code",
   "execution_count": 52,
   "metadata": {
    "collapsed": false
   },
   "outputs": [
    {
     "name": "stdout",
     "output_type": "stream",
     "text": [
      "{'type': 'LIMIT_ORDER', 'instrument': 'USD_TRY', 'units': '1', 'price': '3.48000', 'timeInForce': 'GTC', 'triggerCondition': 'DEFAULT', 'partialFill': 'DEFAULT', 'positionFill': 'DEFAULT', 'stopLossOnFill': {'price': '3.50000', 'timeInForce': 'GTC'}, 'reason': 'CLIENT_ORDER', 'id': '6145', 'userID': 4141160, 'accountID': '101-001-4141160-001', 'batchID': '6145', 'requestID': '42344526603160999', 'time': '2017-09-19T02:14:33.472804165Z'}\n"
     ]
    }
   ],
   "source": [
    "#order = market_order('USD_TRY', '1')\n",
    "order = limit_order('USD_TRY', '1', '3.4800', '3.5')\n",
    "#order = limit_order('USD_TRY', '1', '3.4800')\n",
    "\n",
    "r = orders.OrderCreate(accountID, data=order)\n",
    "api.request(r)\n",
    "print(r.response['orderCreateTransaction'])"
   ]
  },
  {
   "cell_type": "code",
   "execution_count": 40,
   "metadata": {
    "collapsed": false
   },
   "outputs": [
    {
     "name": "stdout",
     "output_type": "stream",
     "text": [
      "{'instrument': 'EUR_USD', 'long': {'units': '0', 'pl': '-0.0005', 'resettablePL': '-0.0005', 'financing': '0.0000', 'unrealizedPL': '0.0000'}, 'short': {'units': '0', 'pl': '0.0000', 'resettablePL': '0.0000', 'financing': '0.0000', 'unrealizedPL': '0.0000'}, 'pl': '-0.0005', 'resettablePL': '-0.0005', 'financing': '0.0000', 'commission': '0.0000', 'unrealizedPL': '0.0000'}\n",
      "{'instrument': 'USD_JPY', 'long': {'units': '0', 'pl': '-0.0252', 'resettablePL': '-0.0252', 'financing': '0.0000', 'unrealizedPL': '0.0000'}, 'short': {'units': '0', 'pl': '-0.0262', 'resettablePL': '-0.0262', 'financing': '0.0000', 'unrealizedPL': '0.0000'}, 'pl': '-0.0514', 'resettablePL': '-0.0514', 'financing': '0.0000', 'commission': '0.0000', 'unrealizedPL': '0.0000'}\n",
      "{'instrument': 'USD_TRY', 'long': {'units': '0', 'pl': '-9.6206', 'resettablePL': '-9.6206', 'financing': '-0.0239', 'unrealizedPL': '0.0000'}, 'short': {'units': '0', 'pl': '-0.7886', 'resettablePL': '-0.7886', 'financing': '0.0028', 'unrealizedPL': '0.0000'}, 'pl': '-10.4092', 'resettablePL': '-10.4092', 'financing': '-0.0211', 'commission': '0.0000', 'unrealizedPL': '0.0000'}\n",
      "{'instrument': 'AUD_USD', 'long': {'units': '0', 'pl': '100.5039', 'resettablePL': '100.5039', 'financing': '-0.4820', 'unrealizedPL': '0.0000'}, 'short': {'units': '0', 'pl': '0.0000', 'resettablePL': '0.0000', 'financing': '0', 'unrealizedPL': '0.0000'}, 'pl': '100.5039', 'resettablePL': '100.5039', 'financing': '-0.4820', 'commission': '0.0000', 'unrealizedPL': '0.0000'}\n"
     ]
    }
   ],
   "source": [
    "r = accounts.AccountDetails(accountID=accountID)\n",
    "df = pd.DataFrame(api.request(r))\n",
    "\n",
    "for e_position in df['account']['positions']:\n",
    "\n",
    "    print( e_position )"
   ]
  },
  {
   "cell_type": "code",
   "execution_count": 62,
   "metadata": {
    "collapsed": false
   },
   "outputs": [
    {
     "name": "stdout",
     "output_type": "stream",
     "text": [
      "{'orders': [{'id': '6161', 'createTime': '2017-09-19T02:20:51.117913958Z', 'type': 'LIMIT', 'instrument': 'USD_TRY', 'units': '1', 'timeInForce': 'GTC', 'price': '3.48000', 'triggerCondition': 'DEFAULT', 'partialFill': 'DEFAULT_FILL', 'positionFill': 'DEFAULT', 'state': 'PENDING'}], 'lastTransactionID': '6172'}\n"
     ]
    }
   ],
   "source": [
    "r = orders.OrderList(accountID)\n",
    "api.request(r)\n",
    "print(r.response)"
   ]
  },
  {
   "cell_type": "code",
   "execution_count": 58,
   "metadata": {
    "collapsed": false
   },
   "outputs": [
    {
     "data": {
      "text/plain": [
       "{'lastTransactionID': '6162',\n",
       " 'orderCreateTransaction': {'accountID': '101-001-4141160-001',\n",
       "  'batchID': '6162',\n",
       "  'id': '6162',\n",
       "  'instrument': 'USD_TRY',\n",
       "  'partialFill': 'DEFAULT',\n",
       "  'positionFill': 'DEFAULT',\n",
       "  'price': '3.48500',\n",
       "  'reason': 'CLIENT_ORDER',\n",
       "  'requestID': '42344528193855614',\n",
       "  'time': '2017-09-19T02:20:52.201144722Z',\n",
       "  'timeInForce': 'GTC',\n",
       "  'triggerCondition': 'DEFAULT',\n",
       "  'type': 'LIMIT_ORDER',\n",
       "  'units': '1',\n",
       "  'userID': 4141160},\n",
       " 'relatedTransactionIDs': ['6162']}"
      ]
     },
     "execution_count": 58,
     "metadata": {},
     "output_type": "execute_result"
    }
   ],
   "source": [
    "order = market_order('USD_TRY', '-2')\n",
    "r = orders.OrderCreate(accountID, data=order)\n",
    "api.request(r)\n",
    "\n",
    "order = limit_order('USD_TRY', '1', '3.4800')\n",
    "r = orders.OrderCreate(accountID, data=order)\n",
    "api.request(r)\n",
    "\n",
    "order = limit_order('USD_TRY', '1', '3.4850')\n",
    "r = orders.OrderCreate(accountID, data=order)\n",
    "api.request(r)\n"
   ]
  },
  {
   "cell_type": "code",
   "execution_count": 60,
   "metadata": {
    "collapsed": false
   },
   "outputs": [
    {
     "data": {
      "text/plain": [
       "{'lastTransactionID': '6163',\n",
       " 'orderCreateTransaction': {'accountID': '101-001-4141160-001',\n",
       "  'batchID': '6163',\n",
       "  'id': '6163',\n",
       "  'instrument': 'EUR_USD',\n",
       "  'partialFill': 'DEFAULT',\n",
       "  'positionFill': 'DEFAULT',\n",
       "  'price': '1.19700',\n",
       "  'reason': 'CLIENT_ORDER',\n",
       "  'requestID': '42344539836353381',\n",
       "  'stopLossOnFill': {'price': '1.19600', 'timeInForce': 'GTC'},\n",
       "  'takeProfitOnFill': {'price': '1.19800', 'timeInForce': 'GTC'},\n",
       "  'time': '2017-09-19T03:07:08.983413546Z',\n",
       "  'timeInForce': 'GTC',\n",
       "  'triggerCondition': 'DEFAULT',\n",
       "  'type': 'STOP_ORDER',\n",
       "  'units': '100',\n",
       "  'userID': 4141160},\n",
       " 'relatedTransactionIDs': ['6163']}"
      ]
     },
     "execution_count": 60,
     "metadata": {},
     "output_type": "execute_result"
    }
   ],
   "source": [
    "order = stop_order('EUR_USD', '100', '1.1970', '1.1960', '1.1980')\n",
    "\n",
    "r = orders.OrderCreate(accountID, data=order)\n",
    "api.request(r)"
   ]
  },
  {
   "cell_type": "code",
   "execution_count": null,
   "metadata": {
    "collapsed": true
   },
   "outputs": [],
   "source": []
  }
 ],
 "metadata": {
  "kernelspec": {
   "display_name": "Python 3",
   "language": "python",
   "name": "python3"
  },
  "language_info": {
   "codemirror_mode": {
    "name": "ipython",
    "version": 3
   },
   "file_extension": ".py",
   "mimetype": "text/x-python",
   "name": "python",
   "nbconvert_exporter": "python",
   "pygments_lexer": "ipython3",
   "version": "3.6.0"
  }
 },
 "nbformat": 4,
 "nbformat_minor": 2
}
