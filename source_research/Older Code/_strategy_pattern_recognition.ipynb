{
 "cells": [
  {
   "cell_type": "code",
   "execution_count": 10,
   "metadata": {},
   "outputs": [],
   "source": [
    "# This strategy assumes predictible returns based on last X number of bars and the relation between O,H,L,C."
   ]
  },
  {
   "cell_type": "code",
   "execution_count": 11,
   "metadata": {},
   "outputs": [],
   "source": [
    "import datetime\n",
    "import pandas as pd\n",
    "import tstables  \n",
    "import tables \n",
    "import _create_research_data as bt_input\n",
    "import numpy as np"
   ]
  },
  {
   "cell_type": "code",
   "execution_count": 12,
   "metadata": {},
   "outputs": [],
   "source": [
    "symbol = 'EUR_USD'\n",
    "granularity = '1H'\n",
    "\n",
    "filename = '{}_{}.hdf'.format(symbol, granularity)\n",
    "df = bt_input.read_hdf_file(filename)\n",
    "df = df[['bid_o', 'bid_h', 'bid_l', 'bid_c', 'volume']]\n",
    "df.columns = ['open', 'high', 'low', 'close', 'volume']\n",
    "#df.head()"
   ]
  },
  {
   "cell_type": "code",
   "execution_count": 13,
   "metadata": {},
   "outputs": [],
   "source": [
    "# Add same columns as a ratio of various inputs\n",
    "'''\n",
    "cols = []\n",
    "\n",
    "lookback = 12\n",
    "for i in range(1,lookback+1):\n",
    "    columnname = 'C_C_' + str(i)    \n",
    "    df[columnname] =  df['close'] / df['close'].shift(i)\n",
    "    cols.append(columnname)\n",
    "    \n",
    "    columnname = 'C_H_' + str(i)    \n",
    "    df[columnname] =  df['close'] / df['high'].shift(i)\n",
    "    cols.append(columnname)\n",
    "    \n",
    "    columnname = 'C_L_' + str(i)    \n",
    "    df[columnname] =  df['close'] / df['low'].shift(i)\n",
    "    cols.append(columnname)\n",
    "    \n",
    "    columnname = 'V_V_' + str(i)    \n",
    "    df[columnname] =  df['volume'] / df['volume'].shift(i)\n",
    "    cols.append(columnname)\n",
    "'''\n",
    "'''\n",
    "# Add same columns but convert to binary input\n",
    "cols = []\n",
    "\n",
    "lookback = 24\n",
    "for i in range(1,lookback+1):\n",
    "    columnname = 'b_C_C_' + str(i)    \n",
    "    df[columnname] = np.sign( df['close'] / df['close'].shift(i) ) \n",
    "    cols.append(columnname)\n",
    "    \n",
    "    columnname = 'b_C_H_' + str(i)    \n",
    "    df[columnname] = np.sign( df['close'] / df['high'].shift(i) )\n",
    "    cols.append(columnname)\n",
    "    \n",
    "    columnname = 'b_C_L_' + str(i)    \n",
    "    df[columnname] = np.sign( df['close'] / df['low'].shift(i) )\n",
    "    cols.append(columnname)\n",
    "    \n",
    "    columnname = 'b_V_V_' + str(i)    \n",
    "    df[columnname] = np.sign( df['volume'] / df['volume'].shift(i) )\n",
    "    cols.append(columnname)\n",
    "'''\n",
    "\n",
    "# Add same columns but convert to binary input\n",
    "cols = []\n",
    "\n",
    "lookback = 24\n",
    "for i in range(1,lookback+1):\n",
    "    columnname = 'log_C_C_' + str(i)    \n",
    "    df[columnname] = np.log( df['close'] / df['close'].shift(i) ) \n",
    "    cols.append(columnname)\n",
    "    \n",
    "    columnname = 'log_C_H_' + str(i)    \n",
    "    df[columnname] = np.log( df['close'] / df['high'].shift(i) )\n",
    "    cols.append(columnname)\n",
    "    \n",
    "    columnname = 'log_C_L_' + str(i)    \n",
    "    df[columnname] = np.log( df['close'] / df['low'].shift(i) )\n",
    "    cols.append(columnname)\n",
    "    \n",
    "    columnname = 'log_V_V_' + str(i)    \n",
    "    df[columnname] = np.log( df['volume'] / df['volume'].shift(i) )\n",
    "    cols.append(columnname)\n",
    "\n",
    "'''\n",
    "# Add same columns but convert to binary input\n",
    "cols = []\n",
    "\n",
    "lookback = 24\n",
    "for i in range(1,lookback+1):\n",
    "    columnname = 'b_log_C_C_' + str(i)    \n",
    "    df[columnname] = n.sign( np.log( df['close'] / df['close'].shift(i) ) )\n",
    "    cols.append(columnname)\n",
    "    \n",
    "    columnname = 'b_log_C_H_' + str(i)    \n",
    "    df[columnname] = n.sign( np.log( df['close'] / df['high'].shift(i) ) )\n",
    "    cols.append(columnname)\n",
    "    \n",
    "    columnname = 'b_log_C_L_' + str(i)    \n",
    "    df[columnname] = n.sign( np.log( df['close'] / df['low'].shift(i) ) )\n",
    "    cols.append(columnname)\n",
    "    \n",
    "    columnname = 'b_log_V_V_' + str(i)    \n",
    "    df[columnname] = n.sign( np.log( df['volume'] / df['volume'].shift(i) ) )\n",
    "    cols.append(columnname)\n",
    "'''\n",
    "\n",
    "# Add response variable\n",
    "\n",
    "df['return'] = df['close'] / df['close'].shift(1) - 1\n",
    "df['b_return'] = np.sign( df['return'] )\n",
    "df['log_return'] = np.log( df['close'] / df['close'].shift(1) )\n",
    "df['b_log_return'] = np.sign( df['log_return'] )\n",
    "\n",
    "df['Y'] =  df['log_return'].shift(-1)\n",
    "df['b_Y'] =  df['b_log_return'].shift(-1)\n",
    "\n",
    "df = df.dropna()\n",
    "\n",
    "#df.to_excel('df.xlsx')"
   ]
  },
  {
   "cell_type": "code",
   "execution_count": 14,
   "metadata": {},
   "outputs": [],
   "source": [
    "from sklearn.linear_model import LogisticRegression\n",
    "from sklearn.model_selection import train_test_split\n",
    "from sklearn.metrics import accuracy_score\n",
    "from sklearn import preprocessing\n",
    "from sklearn.metrics import confusion_matrix\n"
   ]
  },
  {
   "cell_type": "code",
   "execution_count": 15,
   "metadata": {},
   "outputs": [],
   "source": [
    "X = df[cols].values\n",
    "X_scaled = preprocessing.scale(X)\n",
    "y = df['b_Y'].values"
   ]
  },
  {
   "cell_type": "code",
   "execution_count": 17,
   "metadata": {},
   "outputs": [
    {
     "data": {
      "text/plain": [
       "LogisticRegression(C=1.0, class_weight=None, dual=False, fit_intercept=True,\n",
       "                   intercept_scaling=1, l1_ratio=None, max_iter=100,\n",
       "                   multi_class='auto', n_jobs=None, penalty='l2',\n",
       "                   random_state=None, solver='newton-cg', tol=0.0001, verbose=0,\n",
       "                   warm_start=False)"
      ]
     },
     "execution_count": 17,
     "metadata": {},
     "output_type": "execute_result"
    }
   ],
   "source": [
    "lr = LogisticRegression(solver='newton-cg')\n",
    "lr.fit(X_scaled, y)"
   ]
  },
  {
   "cell_type": "code",
   "execution_count": 18,
   "metadata": {},
   "outputs": [
    {
     "name": "stdout",
     "output_type": "stream",
     "text": [
      "Accuracy of logistic regression classifier on test set: 0.53\n"
     ]
    }
   ],
   "source": [
    "#Accuracy is defined as:\n",
    "#(fraction of correct predictions): correct predictions / total number of data points\n",
    "\n",
    "# Use score method to get accuracy of model\n",
    "df['prediction'] = lr.predict(X_scaled)\n",
    "print('Accuracy of logistic regression classifier on test set: {:.2f}'.format(lr.score(X_scaled, y)))\n"
   ]
  },
  {
   "cell_type": "code",
   "execution_count": 19,
   "metadata": {},
   "outputs": [
    {
     "name": "stdout",
     "output_type": "stream",
     "text": [
      "[[11113     0 20061]\n",
      " [  135     0   211]\n",
      " [19312     0 11933]]\n"
     ]
    }
   ],
   "source": [
    "confusion_matrix = confusion_matrix(df['b_log_return'], df['prediction'])\n",
    "print(confusion_matrix)"
   ]
  },
  {
   "cell_type": "code",
   "execution_count": 20,
   "metadata": {},
   "outputs": [
    {
     "data": {
      "text/plain": [
       "0.3671791603600733"
      ]
     },
     "execution_count": 20,
     "metadata": {},
     "output_type": "execute_result"
    }
   ],
   "source": [
    "the training accuracy\n",
    "accuracy_score(df['prediction'], df['b_log_return'])\n",
    "\n"
   ]
  },
  {
   "cell_type": "code",
   "execution_count": 21,
   "metadata": {},
   "outputs": [
    {
     "data": {
      "text/plain": [
       "array([-1.,  1.,  0.])"
      ]
     },
     "execution_count": 21,
     "metadata": {},
     "output_type": "execute_result"
    }
   ],
   "source": [
    "df['b_log_return'].unique()"
   ]
  },
  {
   "cell_type": "code",
   "execution_count": null,
   "metadata": {},
   "outputs": [],
   "source": [
    "hits = np.sign(data['returns'].iloc[lags:] *\n",
    "               data['prediction'].iloc[lags:]\n",
    "              ).value_counts()\n"
   ]
  },
  {
   "cell_type": "code",
   "execution_count": null,
   "metadata": {},
   "outputs": [],
   "source": []
  },
  {
   "cell_type": "code",
   "execution_count": null,
   "metadata": {},
   "outputs": [],
   "source": [
    "df['strategy'] = df['prediction'] * df['return']\n",
    "df[['return', 'strategy']].cumsum().apply(np.exp)"
   ]
  }
 ],
 "metadata": {
  "kernelspec": {
   "display_name": "Python 3",
   "language": "python",
   "name": "python3"
  },
  "language_info": {
   "codemirror_mode": {
    "name": "ipython",
    "version": 3
   },
   "file_extension": ".py",
   "mimetype": "text/x-python",
   "name": "python",
   "nbconvert_exporter": "python",
   "pygments_lexer": "ipython3",
   "version": "3.7.5"
  }
 },
 "nbformat": 4,
 "nbformat_minor": 2
}
