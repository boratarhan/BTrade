{
 "cells": [
  {
   "cell_type": "code",
   "execution_count": 13,
   "metadata": {
    "collapsed": true
   },
   "outputs": [],
   "source": [
    "import math\n",
    "import numpy as np\n",
    "import pandas as pd\n",
    "from pandas_datareader import data as web\n",
    "import matplotlib\n",
    "import matplotlib.pyplot as plt\n",
    "#%matplotlib notebook\n",
    "%matplotlib inline\n",
    "import datetime\n",
    "import tables \n",
    "import tstables  \n",
    "import os\n",
    "from indicators import *\n",
    "from sklearn import svm\n",
    "\n",
    "def write2excel( df, filename ):\n",
    "    filepath = os.path.join('..', '..', 'datastore', filename) + '.xlsx'\n",
    "    writer = pd.ExcelWriter(filepath, engine='xlsxwriter')\n",
    "    df.to_excel(writer )\n",
    "    writer.save()"
   ]
  },
  {
   "cell_type": "code",
   "execution_count": 14,
   "metadata": {
    "collapsed": false
   },
   "outputs": [],
   "source": [
    "symbol = 'AUD_USD'\n",
    "account_type = 'practice'\n",
    "granularity = 'S5'\n",
    "start_datetime = datetime.datetime(2010,1,1,0,0,0)\n",
    "end_datetime = datetime.datetime(2015,1,1,0,0,0)\n",
    "decision_frequency = '4H'\n",
    "\n",
    "file_path = '..\\\\..\\\\datastore\\\\_{0}\\\\{1}\\\\{2}.h5'.format(account_type,symbol,granularity)\n",
    "\n",
    "h5 = tables.open_file(file_path, 'r')\n",
    "ts = h5.root.data._f_get_timeseries()\n",
    "raw = ts.read_range(start_datetime,end_datetime)\n",
    "raw = pd.DataFrame(raw)\n",
    "                \n",
    "# Aggregate the high frequency data to the decision frequency\n",
    "ohlc_dict = {   'ask_o':'first', 'ask_h':'max', 'ask_l':'min', 'ask_c': 'last',                                                                                                    \n",
    "                'bid_o':'first', 'bid_h':'max', 'bid_l':'min', 'bid_c': 'last',                                                                                                    \n",
    "                'volume': 'sum' }\n",
    "\n",
    "df = raw.resample(decision_frequency, closed='left', label='left').apply(ohlc_dict).dropna()\n",
    "\n",
    "indicator_list = []\n"
   ]
  },
  {
   "cell_type": "code",
   "execution_count": 15,
   "metadata": {
    "collapsed": false
   },
   "outputs": [],
   "source": [
    "#df.bid_c.plot()\n",
    "#plt.show()\n",
    "\n",
    "file_path_csv = '..\\\\..\\\\datastore\\\\_{0}\\\\{1}\\\\AUD3.csv'.format(account_type,symbol,granularity)\n",
    "df.to_csv(file_path_csv)\n"
   ]
  },
  {
   "cell_type": "code",
   "execution_count": 16,
   "metadata": {
    "collapsed": false
   },
   "outputs": [],
   "source": [
    "sma_value = 50\n",
    "df['SMA{}'.format(sma_value)] = talib.SMA(df['bid_c'].values,50)\n",
    "df['diverge_from_sma'] = df['bid_c'] - df['SMA{}'.format(sma_value)]\n",
    "df['RSI'] = talib.RSI(df['bid_c'].values, timeperiod=3)\n",
    "\n",
    "lookback = 1\n",
    "df['return'] = (df['bid_c']/df['bid_c'].shift(lookback))\n",
    "df['return_class'] = np.where(df['return'] >= 1, 'UP', 'DOWN')\n",
    "df['return_class_binary'] = np.where(df['return'] >= 1, 1, 0)\n",
    "\n",
    "df['return_class_to_pred'] = df['return_class'].shift(-lookback)\n",
    "df['return_class_binary_to_pred'] = df['return_class_binary'].shift(-lookback)\n",
    "df = df.dropna()"
   ]
  },
  {
   "cell_type": "code",
   "execution_count": 17,
   "metadata": {
    "collapsed": false
   },
   "outputs": [
    {
     "data": {
      "text/html": [
       "<div>\n",
       "<table border=\"1\" class=\"dataframe\">\n",
       "  <thead>\n",
       "    <tr style=\"text-align: right;\">\n",
       "      <th></th>\n",
       "      <th>ask_o</th>\n",
       "      <th>ask_h</th>\n",
       "      <th>ask_l</th>\n",
       "      <th>ask_c</th>\n",
       "      <th>bid_o</th>\n",
       "      <th>bid_h</th>\n",
       "      <th>bid_l</th>\n",
       "      <th>bid_c</th>\n",
       "      <th>volume</th>\n",
       "      <th>SMA50</th>\n",
       "      <th>diverge_from_sma</th>\n",
       "      <th>RSI</th>\n",
       "      <th>return</th>\n",
       "      <th>return_class</th>\n",
       "      <th>return_class_binary</th>\n",
       "      <th>return_class_to_pred</th>\n",
       "      <th>return_class_binary_to_pred</th>\n",
       "    </tr>\n",
       "  </thead>\n",
       "  <tbody>\n",
       "    <tr>\n",
       "      <th>2014-12-30 20:00:00</th>\n",
       "      <td>0.81807</td>\n",
       "      <td>0.81881</td>\n",
       "      <td>0.81788</td>\n",
       "      <td>0.81842</td>\n",
       "      <td>0.81787</td>\n",
       "      <td>0.81857</td>\n",
       "      <td>0.81769</td>\n",
       "      <td>0.81821</td>\n",
       "      <td>384.0</td>\n",
       "      <td>0.813825</td>\n",
       "      <td>0.004385</td>\n",
       "      <td>66.832975</td>\n",
       "      <td>1.000452</td>\n",
       "      <td>UP</td>\n",
       "      <td>1</td>\n",
       "      <td>UP</td>\n",
       "      <td>1.0</td>\n",
       "    </tr>\n",
       "    <tr>\n",
       "      <th>2014-12-31 00:00:00</th>\n",
       "      <td>0.81838</td>\n",
       "      <td>0.82165</td>\n",
       "      <td>0.81802</td>\n",
       "      <td>0.82023</td>\n",
       "      <td>0.81818</td>\n",
       "      <td>0.82149</td>\n",
       "      <td>0.81780</td>\n",
       "      <td>0.82005</td>\n",
       "      <td>1283.0</td>\n",
       "      <td>0.813943</td>\n",
       "      <td>0.006107</td>\n",
       "      <td>79.895129</td>\n",
       "      <td>1.002249</td>\n",
       "      <td>UP</td>\n",
       "      <td>1</td>\n",
       "      <td>DOWN</td>\n",
       "      <td>0.0</td>\n",
       "    </tr>\n",
       "    <tr>\n",
       "      <th>2014-12-31 04:00:00</th>\n",
       "      <td>0.82026</td>\n",
       "      <td>0.82084</td>\n",
       "      <td>0.81787</td>\n",
       "      <td>0.81868</td>\n",
       "      <td>0.82008</td>\n",
       "      <td>0.82064</td>\n",
       "      <td>0.81768</td>\n",
       "      <td>0.81847</td>\n",
       "      <td>729.0</td>\n",
       "      <td>0.813982</td>\n",
       "      <td>0.004488</td>\n",
       "      <td>53.006530</td>\n",
       "      <td>0.998073</td>\n",
       "      <td>DOWN</td>\n",
       "      <td>0</td>\n",
       "      <td>UP</td>\n",
       "      <td>1.0</td>\n",
       "    </tr>\n",
       "    <tr>\n",
       "      <th>2014-12-31 08:00:00</th>\n",
       "      <td>0.81871</td>\n",
       "      <td>0.82090</td>\n",
       "      <td>0.81858</td>\n",
       "      <td>0.82075</td>\n",
       "      <td>0.81852</td>\n",
       "      <td>0.82069</td>\n",
       "      <td>0.81838</td>\n",
       "      <td>0.82054</td>\n",
       "      <td>1038.0</td>\n",
       "      <td>0.814025</td>\n",
       "      <td>0.006515</td>\n",
       "      <td>71.714230</td>\n",
       "      <td>1.002529</td>\n",
       "      <td>UP</td>\n",
       "      <td>1</td>\n",
       "      <td>DOWN</td>\n",
       "      <td>0.0</td>\n",
       "    </tr>\n",
       "    <tr>\n",
       "      <th>2014-12-31 12:00:00</th>\n",
       "      <td>0.82079</td>\n",
       "      <td>0.82114</td>\n",
       "      <td>0.81600</td>\n",
       "      <td>0.81835</td>\n",
       "      <td>0.82057</td>\n",
       "      <td>0.82096</td>\n",
       "      <td>0.81583</td>\n",
       "      <td>0.81816</td>\n",
       "      <td>1564.0</td>\n",
       "      <td>0.814073</td>\n",
       "      <td>0.004087</td>\n",
       "      <td>42.520917</td>\n",
       "      <td>0.997099</td>\n",
       "      <td>DOWN</td>\n",
       "      <td>0</td>\n",
       "      <td>DOWN</td>\n",
       "      <td>0.0</td>\n",
       "    </tr>\n",
       "  </tbody>\n",
       "</table>\n",
       "</div>"
      ],
      "text/plain": [
       "                       ask_o    ask_h    ask_l    ask_c    bid_o    bid_h  \\\n",
       "2014-12-30 20:00:00  0.81807  0.81881  0.81788  0.81842  0.81787  0.81857   \n",
       "2014-12-31 00:00:00  0.81838  0.82165  0.81802  0.82023  0.81818  0.82149   \n",
       "2014-12-31 04:00:00  0.82026  0.82084  0.81787  0.81868  0.82008  0.82064   \n",
       "2014-12-31 08:00:00  0.81871  0.82090  0.81858  0.82075  0.81852  0.82069   \n",
       "2014-12-31 12:00:00  0.82079  0.82114  0.81600  0.81835  0.82057  0.82096   \n",
       "\n",
       "                       bid_l    bid_c  volume     SMA50  diverge_from_sma  \\\n",
       "2014-12-30 20:00:00  0.81769  0.81821   384.0  0.813825          0.004385   \n",
       "2014-12-31 00:00:00  0.81780  0.82005  1283.0  0.813943          0.006107   \n",
       "2014-12-31 04:00:00  0.81768  0.81847   729.0  0.813982          0.004488   \n",
       "2014-12-31 08:00:00  0.81838  0.82054  1038.0  0.814025          0.006515   \n",
       "2014-12-31 12:00:00  0.81583  0.81816  1564.0  0.814073          0.004087   \n",
       "\n",
       "                           RSI    return return_class  return_class_binary  \\\n",
       "2014-12-30 20:00:00  66.832975  1.000452           UP                    1   \n",
       "2014-12-31 00:00:00  79.895129  1.002249           UP                    1   \n",
       "2014-12-31 04:00:00  53.006530  0.998073         DOWN                    0   \n",
       "2014-12-31 08:00:00  71.714230  1.002529           UP                    1   \n",
       "2014-12-31 12:00:00  42.520917  0.997099         DOWN                    0   \n",
       "\n",
       "                    return_class_to_pred  return_class_binary_to_pred  \n",
       "2014-12-30 20:00:00                   UP                          1.0  \n",
       "2014-12-31 00:00:00                 DOWN                          0.0  \n",
       "2014-12-31 04:00:00                   UP                          1.0  \n",
       "2014-12-31 08:00:00                 DOWN                          0.0  \n",
       "2014-12-31 12:00:00                 DOWN                          0.0  "
      ]
     },
     "execution_count": 17,
     "metadata": {},
     "output_type": "execute_result"
    }
   ],
   "source": [
    "df.tail()"
   ]
  },
  {
   "cell_type": "code",
   "execution_count": 19,
   "metadata": {
    "collapsed": false
   },
   "outputs": [],
   "source": [
    "training_data_size = int(df.index.values.size * .60 )\n",
    "train, test = df[0:training_data_size], df[training_data_size:df.index.values.size]\n"
   ]
  },
  {
   "cell_type": "code",
   "execution_count": 20,
   "metadata": {
    "collapsed": false
   },
   "outputs": [],
   "source": [
    "X_train = train[['diverge_from_sma','RSI']].values\n",
    "X_test = test[['diverge_from_sma','RSI']].values\n",
    "#y_train = train[['return_class_to_pred']].values\n",
    "y_train = train[['return_class_binary_to_pred']].values\n",
    "y_test = test[['return_class_binary_to_pred']].values\n",
    "\n"
   ]
  },
  {
   "cell_type": "code",
   "execution_count": 21,
   "metadata": {
    "collapsed": false
   },
   "outputs": [
    {
     "name": "stderr",
     "output_type": "stream",
     "text": [
      "C:\\Users\\bora\\Anaconda3\\lib\\site-packages\\sklearn\\utils\\validation.py:526: DataConversionWarning: A column-vector y was passed when a 1d array was expected. Please change the shape of y to (n_samples, ), for example using ravel().\n",
      "  y = column_or_1d(y, warn=True)\n"
     ]
    },
    {
     "data": {
      "text/plain": [
       "SVC(C=1.0, cache_size=200, class_weight=None, coef0=0.0,\n",
       "  decision_function_shape=None, degree=3, gamma=0.5, kernel='rbf',\n",
       "  max_iter=-1, probability=False, random_state=None, shrinking=True,\n",
       "  tol=0.001, verbose=False)"
      ]
     },
     "execution_count": 21,
     "metadata": {},
     "output_type": "execute_result"
    }
   ],
   "source": [
    "clf = svm.SVC(kernel='rbf', C = 1.0, gamma=0.5)\n",
    "clf.fit(X_train,y_train)"
   ]
  },
  {
   "cell_type": "code",
   "execution_count": 22,
   "metadata": {
    "collapsed": false
   },
   "outputs": [
    {
     "name": "stdout",
     "output_type": "stream",
     "text": [
      "0.484379562044\n"
     ]
    }
   ],
   "source": [
    "#y_pred = clf.predict(X_test)\n",
    "#y_pred\n",
    "\n",
    "accuracy = clf.score(X_test, y_test)\n",
    "print(accuracy)"
   ]
  },
  {
   "cell_type": "code",
   "execution_count": 23,
   "metadata": {
    "collapsed": false
   },
   "outputs": [
    {
     "name": "stdout",
     "output_type": "stream",
     "text": [
      "0.570872274143\n"
     ]
    }
   ],
   "source": [
    "accuracy = clf.score(X_train, y_train)\n",
    "print(accuracy)"
   ]
  },
  {
   "cell_type": "code",
   "execution_count": 24,
   "metadata": {
    "collapsed": false
   },
   "outputs": [
    {
     "data": {
      "image/png": "[encoded data removed]",
      "text/plain": [
       "<matplotlib.figure.Figure at 0x19f002622e8>"
      ]
     },
     "metadata": {},
     "output_type": "display_data"
    }
   ],
   "source": [
    "colors = ['red','green']\n",
    "plt.scatter(X_train[:, 0], X_train[:, 1], c = y_train, cmap=matplotlib.colors.ListedColormap(colors))\n",
    "\n",
    "cb = plt.colorbar()\n",
    "loc = np.arange(0,max(y_train),max(y_train)/float(len(colors)))\n",
    "cb.set_ticks(loc)\n",
    "cb.set_ticklabels(colors)"
   ]
  },
  {
   "cell_type": "code",
   "execution_count": null,
   "metadata": {
    "collapsed": false
   },
   "outputs": [],
   "source": []
  },
  {
   "cell_type": "code",
   "execution_count": null,
   "metadata": {
    "collapsed": false
   },
   "outputs": [],
   "source": []
  },
  {
   "cell_type": "code",
   "execution_count": null,
   "metadata": {
    "collapsed": true
   },
   "outputs": [],
   "source": []
  }
 ],
 "metadata": {
  "kernelspec": {
   "display_name": "Python 3",
   "language": "python",
   "name": "python3"
  },
  "language_info": {
   "codemirror_mode": {
    "name": "ipython",
    "version": 3
   },
   "file_extension": ".py",
   "mimetype": "text/x-python",
   "name": "python",
   "nbconvert_exporter": "python",
   "pygments_lexer": "ipython3",
   "version": "3.6.0"
  }
 },
 "nbformat": 4,
 "nbformat_minor": 2
}
