{
 "cells": [
  {
   "cell_type": "code",
   "execution_count": 1,
   "metadata": {
    "collapsed": true
   },
   "outputs": [],
   "source": [
    "import oandapyV20\n",
    "import oandapyV20.endpoints.instruments as instruments\n",
    "import oandapyV20.endpoints.pricing as pricing\n",
    "import oandapyV20.endpoints.accounts as accounts\n",
    "import oandapyV20.endpoints.orders as orders\n",
    "from oandapyV20.exceptions import V20Error\n",
    "import zmq\n",
    "import pandas as pd\n",
    "import tables \n",
    "import tstables  \n",
    "import datetime\n",
    "import configparser\n",
    "import time\n",
    "import utility_functions as uf\n",
    "import threading\n",
    "import os\n",
    "\n",
    "try:\n",
    "    config = configparser.ConfigParser()\n",
    "    config.read('..\\..\\configinfo.cfg')\n",
    "\n",
    "except:\n",
    "    print( 'Error in reading configuration file' )\n",
    "\n",
    "accountID = config['oanda_v20']['account_number_practice']\n",
    "access_token = config['oanda_v20']['access_token_practice']\n",
    "api = oandapyV20.API(access_token=access_token)\n",
    "\n",
    "symbol = 'USD_TRY'\n",
    "units = 2"
   ]
  },
  {
   "cell_type": "code",
   "execution_count": 2,
   "metadata": {
    "collapsed": false
   },
   "outputs": [],
   "source": [
    "class order(object):\n",
    "    \n",
    "    def __init__(self,symbol,units):\n",
    "\n",
    "        self.symbol = symbol\n",
    "        self.units = units\n",
    "        self.longshort = 'long' if self.units > 0 else 'short'\n",
    "        self.exittransactions = [] \n",
    "        self.'6290' = {}\n",
    "        self.market_order()\n",
    "\n",
    "        self.unrealizedprofitloss = 0.0\n",
    "        self.realizedprofitloss = 0.0\n",
    "\n",
    "    def submit_order(self, order):\n",
    "\n",
    "        self.response = orders.OrderCreate(accountID, data=order)\n",
    "        api.request(self.response)\n",
    "        date = self.response.response['orderFillTransaction']['time']\n",
    "        price = float(self.response.response['orderFillTransaction']['price'])\n",
    "        ID = self.response.response['orderCreateTransaction']['batchID']\n",
    "        \n",
    "        return date, price, ID\n",
    "            \n",
    "    def market_order(self):\n",
    "\n",
    "        order = { \"order\": {\"type\": \"MARKET\",\n",
    "                            \"instrument\": self.symbol,\n",
    "                            \"units\": str(self.units),\n",
    "                            \"timeInForce\": \"FOK\",\n",
    "                            \"positionFill\": \"DEFAULT\" } }\n",
    "\n",
    "        self.entrydate, self.entryprice, self.entryID = self.submit_order(order)\n",
    "\n",
    "    def close_partial_market_order(self,units):\n",
    "        \n",
    "        units = -abs(units) if self.units > 0 else abs(units)\n",
    "        self.units = self.units + units\n",
    "        \n",
    "        order = { \"order\": {\"type\": \"MARKET\",\n",
    "                            \"instrument\": self.symbol,\n",
    "                            \"units\": str(units),\n",
    "                            \"timeInForce\": \"FOK\",\n",
    "                            \"positionFill\": \"DEFAULT\" } }\n",
    "        \n",
    "        exitdate, exitprice, exitID = self.submit_order(order)\n",
    "        realizedprofitloss = exitprice - self.entryprice if self.longshort == 'long' else self.entryprice - exitprice\n",
    "        transaction = { 'date' : exitdate, 'units' : units, 'price' : exitprice, 'realized P&L': realizedprofitloss }\n",
    "        self.exittransactions.append(transaction)\n",
    "\n",
    "    def close_market_order(self):\n",
    "        \n",
    "        self.units = -self.units\n",
    "        \n",
    "        order = { \"order\": {\"type\": \"MARKET\",\n",
    "                            \"instrument\": self.symbol,\n",
    "                            \"units\": str(self.units),\n",
    "                            \"timeInForce\": \"FOK\",\n",
    "                            \"positionFill\": \"DEFAULT\" } }\n",
    "        \n",
    "        exitdate, exitprice, exitID = self.submit_order(order)\n",
    "        realizedprofitloss = exitprice - self.entryprice if self.longshort == 'long' else self.entryprice - exitprice\n",
    "        transaction = { 'date' : exitdate, 'units' : self.units, 'price' : exitprice, 'realized P&L': realizedprofitloss }\n",
    "        self.exittransactions.append(transaction)\n",
    "    \n",
    "    def update(self):\n",
    "        \n",
    "        self.unrealizedprofitloss = 0.0\n",
    "        \n",
    "        "
   ]
  },
  {
   "cell_type": "code",
   "execution_count": 118,
   "metadata": {
    "collapsed": false
   },
   "outputs": [
    {
     "data": {
      "text/plain": [
       "('2017-09-20T03:45:51.523320845Z', 3.48829, '6280')"
      ]
     },
     "execution_count": 118,
     "metadata": {},
     "output_type": "execute_result"
    }
   ],
   "source": [
    "order1 = order(symbol, units)\n",
    "order1.entrydate, order1.entryprice, order1.entryID"
   ]
  },
  {
   "cell_type": "code",
   "execution_count": 119,
   "metadata": {
    "collapsed": false
   },
   "outputs": [
    {
     "data": {
      "text/plain": [
       "[{'date': '2017-09-20T03:45:54.310711962Z',\n",
       "  'price': 3.48545,\n",
       "  'realized P&L': -0.0028399999999999537,\n",
       "  'units': -1}]"
      ]
     },
     "execution_count": 119,
     "metadata": {},
     "output_type": "execute_result"
    }
   ],
   "source": [
    "order1.close_partial_market_order(1)\n",
    "order1.exittransactions"
   ]
  },
  {
   "cell_type": "code",
   "execution_count": 120,
   "metadata": {
    "collapsed": false
   },
   "outputs": [
    {
     "data": {
      "text/plain": [
       "[{'date': '2017-09-20T03:45:54.310711962Z',\n",
       "  'price': 3.48545,\n",
       "  'realized P&L': -0.0028399999999999537,\n",
       "  'units': -1},\n",
       " {'date': '2017-09-20T03:45:57.514730677Z',\n",
       "  'price': 3.48545,\n",
       "  'realized P&L': -0.0028399999999999537,\n",
       "  'units': -1}]"
      ]
     },
     "execution_count": 120,
     "metadata": {},
     "output_type": "execute_result"
    }
   ],
   "source": [
    "order1.close_market_order()\n",
    "order1.exittransactions"
   ]
  },
  {
   "cell_type": "code",
   "execution_count": 23,
   "metadata": {
    "collapsed": false
   },
   "outputs": [
    {
     "data": {
      "text/plain": [
       "'6290'"
      ]
     },
     "execution_count": 23,
     "metadata": {},
     "output_type": "execute_result"
    }
   ],
   "source": [
    "order1.entryID"
   ]
  },
  {
   "cell_type": "code",
   "execution_count": 11,
   "metadata": {
    "collapsed": true
   },
   "outputs": [],
   "source": [
    "order1 = order('USD_TRY', 10)\n",
    "order2 = order('EUR_USD', 10)"
   ]
  },
  {
   "cell_type": "code",
   "execution_count": 19,
   "metadata": {
    "collapsed": false
   },
   "outputs": [
    {
     "name": "stdout",
     "output_type": "stream",
     "text": [
      "[]\n"
     ]
    }
   ],
   "source": [
    "# List of open/pending orders\n",
    "#r = orders.OrderList(accountID)\n",
    "r = orders.OrdersPending(accountID)\n",
    "api.request(r)\n",
    "print(r.response['orders'])"
   ]
  },
  {
   "cell_type": "code",
   "execution_count": 22,
   "metadata": {
    "collapsed": false
   },
   "outputs": [
    {
     "data": {
      "text/plain": [
       "{'lastTransactionID': '6291',\n",
       " 'orderCreateTransaction': {'accountID': '101-001-4141160-001',\n",
       "  'batchID': '6290',\n",
       "  'id': '6290',\n",
       "  'instrument': 'USD_TRY',\n",
       "  'positionFill': 'DEFAULT',\n",
       "  'reason': 'CLIENT_ORDER',\n",
       "  'requestID': '42345253793022517',\n",
       "  'time': '2017-09-21T02:24:09.762281688Z',\n",
       "  'timeInForce': 'FOK',\n",
       "  'type': 'MARKET_ORDER',\n",
       "  'units': '10',\n",
       "  'userID': 4141160},\n",
       " 'orderFillTransaction': {'accountBalance': '10089.6073',\n",
       "  'accountID': '101-001-4141160-001',\n",
       "  'batchID': '6290',\n",
       "  'commission': '0.0000',\n",
       "  'financing': '0.0000',\n",
       "  'fullPrice': {'asks': [{'liquidity': '10000000', 'price': '3.51228'}],\n",
       "   'bids': [{'liquidity': '10000000', 'price': '3.50962'}],\n",
       "   'closeoutAsk': '3.51228',\n",
       "   'closeoutBid': '3.50962',\n",
       "   'timestamp': '2017-09-21T02:24:08.760358037Z'},\n",
       "  'id': '6291',\n",
       "  'instrument': 'USD_TRY',\n",
       "  'orderID': '6290',\n",
       "  'pl': '0.0000',\n",
       "  'price': '3.51228',\n",
       "  'reason': 'MARKET_ORDER',\n",
       "  'requestID': '42345253793022517',\n",
       "  'time': '2017-09-21T02:24:09.762281688Z',\n",
       "  'tradeOpened': {'tradeID': '6291', 'units': '10'},\n",
       "  'type': 'ORDER_FILL',\n",
       "  'units': '10',\n",
       "  'userID': 4141160},\n",
       " 'relatedTransactionIDs': ['6290', '6291']}"
      ]
     },
     "execution_count": 22,
     "metadata": {},
     "output_type": "execute_result"
    }
   ],
   "source": [
    "order1.response.response"
   ]
  },
  {
   "cell_type": "code",
   "execution_count": null,
   "metadata": {
    "collapsed": true
   },
   "outputs": [],
   "source": [
    "r = orders.OrderDetails(accountID=accountID, orderID=)\n",
    "api.request(r)"
   ]
  },
  {
   "cell_type": "code",
   "execution_count": 13,
   "metadata": {
    "collapsed": true
   },
   "outputs": [],
   "source": [
    "def limit_order(symbol, units, entryprice, exitprice):\n",
    "\n",
    "    order = { \"order\": { \"type\": \"LIMIT\", \n",
    "                         \"instrument\": symbol, \n",
    "                         \"units\": units, \n",
    "                         \"price\": entryprice, \n",
    "                         \"stopLossOnFill\": { \"timeInForce\": \"GTC\", \"price\": exitprice }, \n",
    "                         \"timeInForce\": \"GTC\", \n",
    "                         \"positionFill\": \"DEFAULT\" }}\n",
    "\n",
    "    return order  "
   ]
  },
  {
   "cell_type": "code",
   "execution_count": 56,
   "metadata": {
    "collapsed": false
   },
   "outputs": [],
   "source": [
    "def limit_order(symbol, units, entryprice):\n",
    "\n",
    "    order = { \"order\": { \"type\": \"LIMIT\", \n",
    "                         \"instrument\": symbol, \n",
    "                         \"units\": units, \n",
    "                         \"price\": entryprice, \n",
    "                         \"timeInForce\": \"GTC\", \n",
    "                         \"positionFill\": \"DEFAULT\" }}\n",
    "\n",
    "    return order  "
   ]
  },
  {
   "cell_type": "code",
   "execution_count": null,
   "metadata": {
    "collapsed": true
   },
   "outputs": [],
   "source": [
    "def limit_order(symbol, units, entryprice, stoplossprice, takeprofitprice):\n",
    "\n",
    "    order = { \"order\": { \"type\": \"LIMIT\", \n",
    "                         \"instrument\": symbol, \n",
    "                         \"units\": units, \n",
    "                         \"price\": entryprice, \n",
    "                         \"stopLossOnFill\": { \"timeInForce\": \"GTC\", \"price\": stoplossprice }, \n",
    "                         \"takeProfitOnFill\": { \"timeInForce\": \"GTC\", \"price\": takeprofitprice },\n",
    "                         \"timeInForce\": \"GTC\", \n",
    "                         \"positionFill\": \"DEFAULT\" }}\n",
    "\n",
    "    return order  "
   ]
  },
  {
   "cell_type": "code",
   "execution_count": 59,
   "metadata": {
    "collapsed": true
   },
   "outputs": [],
   "source": [
    "def stop_order(symbol, units, entryprice, stoplossprice, takeprofitprice):\n",
    "\n",
    "    order = { \"order\": { \"type\": \"STOP\", \n",
    "                         \"instrument\": symbol, \n",
    "                         \"units\": units, \n",
    "                         \"price\": entryprice, \n",
    "                         \"stopLossOnFill\": { \"timeInForce\": \"GTC\", \"price\": stoplossprice }, \n",
    "                         \"takeProfitOnFill\": { \"timeInForce\": \"GTC\", \"price\": takeprofitprice },\n",
    "                         \"timeInForce\": \"GTC\", \n",
    "                         \"positionFill\": \"DEFAULT\" }}\n",
    "\n",
    "    return order  \n"
   ]
  },
  {
   "cell_type": "code",
   "execution_count": 14,
   "metadata": {
    "collapsed": false
   },
   "outputs": [
    {
     "name": "stdout",
     "output_type": "stream",
     "text": [
      "{'type': 'LIMIT_ORDER', 'instrument': 'USD_TRY', 'units': '1', 'price': '3.48000', 'timeInForce': 'GTC', 'triggerCondition': 'DEFAULT', 'partialFill': 'DEFAULT', 'positionFill': 'DEFAULT', 'stopLossOnFill': {'price': '3.50000', 'timeInForce': 'GTC'}, 'reason': 'CLIENT_ORDER', 'id': '6294', 'userID': 4141160, 'accountID': '101-001-4141160-001', 'batchID': '6294', 'requestID': '42345254250505444', 'time': '2017-09-21T02:25:58.623400958Z'}\n",
      "----------------------------------------\n",
      "3.48000\n"
     ]
    }
   ],
   "source": [
    "#order = market_order('USD_TRY', '1')\n",
    "order = limit_order('USD_TRY', '1', '3.4800', '3.5')\n",
    "#order = limit_order('USD_TRY', '1', '3.4800')\n",
    "\n",
    "r = orders.OrderCreate(accountID, data=order)\n",
    "api.request(r)\n",
    "print(r.response['orderCreateTransaction'])\n",
    "print('----------------------------------------')\n",
    "print(r.response['orderCreateTransaction']['price'])"
   ]
  },
  {
   "cell_type": "code",
   "execution_count": 40,
   "metadata": {
    "collapsed": false
   },
   "outputs": [
    {
     "name": "stdout",
     "output_type": "stream",
     "text": [
      "{'instrument': 'EUR_USD', 'long': {'units': '0', 'pl': '-0.0005', 'resettablePL': '-0.0005', 'financing': '0.0000', 'unrealizedPL': '0.0000'}, 'short': {'units': '0', 'pl': '0.0000', 'resettablePL': '0.0000', 'financing': '0.0000', 'unrealizedPL': '0.0000'}, 'pl': '-0.0005', 'resettablePL': '-0.0005', 'financing': '0.0000', 'commission': '0.0000', 'unrealizedPL': '0.0000'}\n",
      "{'instrument': 'USD_JPY', 'long': {'units': '0', 'pl': '-0.0252', 'resettablePL': '-0.0252', 'financing': '0.0000', 'unrealizedPL': '0.0000'}, 'short': {'units': '0', 'pl': '-0.0262', 'resettablePL': '-0.0262', 'financing': '0.0000', 'unrealizedPL': '0.0000'}, 'pl': '-0.0514', 'resettablePL': '-0.0514', 'financing': '0.0000', 'commission': '0.0000', 'unrealizedPL': '0.0000'}\n",
      "{'instrument': 'USD_TRY', 'long': {'units': '0', 'pl': '-9.6206', 'resettablePL': '-9.6206', 'financing': '-0.0239', 'unrealizedPL': '0.0000'}, 'short': {'units': '0', 'pl': '-0.7886', 'resettablePL': '-0.7886', 'financing': '0.0028', 'unrealizedPL': '0.0000'}, 'pl': '-10.4092', 'resettablePL': '-10.4092', 'financing': '-0.0211', 'commission': '0.0000', 'unrealizedPL': '0.0000'}\n",
      "{'instrument': 'AUD_USD', 'long': {'units': '0', 'pl': '100.5039', 'resettablePL': '100.5039', 'financing': '-0.4820', 'unrealizedPL': '0.0000'}, 'short': {'units': '0', 'pl': '0.0000', 'resettablePL': '0.0000', 'financing': '0', 'unrealizedPL': '0.0000'}, 'pl': '100.5039', 'resettablePL': '100.5039', 'financing': '-0.4820', 'commission': '0.0000', 'unrealizedPL': '0.0000'}\n"
     ]
    }
   ],
   "source": [
    "r = accounts.AccountDetails(accountID=accountID)\n",
    "df = pd.DataFrame(api.request(r))\n",
    "\n",
    "for e_position in df['account']['positions']:\n",
    "\n",
    "    print( e_position )"
   ]
  },
  {
   "cell_type": "code",
   "execution_count": 62,
   "metadata": {
    "collapsed": false
   },
   "outputs": [
    {
     "name": "stdout",
     "output_type": "stream",
     "text": [
      "{'orders': [{'id': '6161', 'createTime': '2017-09-19T02:20:51.117913958Z', 'type': 'LIMIT', 'instrument': 'USD_TRY', 'units': '1', 'timeInForce': 'GTC', 'price': '3.48000', 'triggerCondition': 'DEFAULT', 'partialFill': 'DEFAULT_FILL', 'positionFill': 'DEFAULT', 'state': 'PENDING'}], 'lastTransactionID': '6172'}\n"
     ]
    }
   ],
   "source": [
    "r = orders.OrderList(accountID)\n",
    "api.request(r)\n",
    "print(r.response)"
   ]
  },
  {
   "cell_type": "code",
   "execution_count": 58,
   "metadata": {
    "collapsed": false
   },
   "outputs": [
    {
     "data": {
      "text/plain": [
       "{'lastTransactionID': '6162',\n",
       " 'orderCreateTransaction': {'accountID': '101-001-4141160-001',\n",
       "  'batchID': '6162',\n",
       "  'id': '6162',\n",
       "  'instrument': 'USD_TRY',\n",
       "  'partialFill': 'DEFAULT',\n",
       "  'positionFill': 'DEFAULT',\n",
       "  'price': '3.48500',\n",
       "  'reason': 'CLIENT_ORDER',\n",
       "  'requestID': '42344528193855614',\n",
       "  'time': '2017-09-19T02:20:52.201144722Z',\n",
       "  'timeInForce': 'GTC',\n",
       "  'triggerCondition': 'DEFAULT',\n",
       "  'type': 'LIMIT_ORDER',\n",
       "  'units': '1',\n",
       "  'userID': 4141160},\n",
       " 'relatedTransactionIDs': ['6162']}"
      ]
     },
     "execution_count": 58,
     "metadata": {},
     "output_type": "execute_result"
    }
   ],
   "source": [
    "order = market_order('USD_TRY', '-2')\n",
    "r = orders.OrderCreate(accountID, data=order)\n",
    "api.request(r)\n",
    "\n",
    "order = limit_order('USD_TRY', '1', '3.4800')\n",
    "r = orders.OrderCreate(accountID, data=order)\n",
    "api.request(r)\n",
    "\n",
    "order = limit_order('USD_TRY', '1', '3.4850')\n",
    "r = orders.OrderCreate(accountID, data=order)\n",
    "api.request(r)\n"
   ]
  },
  {
   "cell_type": "code",
   "execution_count": 60,
   "metadata": {
    "collapsed": false
   },
   "outputs": [
    {
     "data": {
      "text/plain": [
       "{'lastTransactionID': '6163',\n",
       " 'orderCreateTransaction': {'accountID': '101-001-4141160-001',\n",
       "  'batchID': '6163',\n",
       "  'id': '6163',\n",
       "  'instrument': 'EUR_USD',\n",
       "  'partialFill': 'DEFAULT',\n",
       "  'positionFill': 'DEFAULT',\n",
       "  'price': '1.19700',\n",
       "  'reason': 'CLIENT_ORDER',\n",
       "  'requestID': '42344539836353381',\n",
       "  'stopLossOnFill': {'price': '1.19600', 'timeInForce': 'GTC'},\n",
       "  'takeProfitOnFill': {'price': '1.19800', 'timeInForce': 'GTC'},\n",
       "  'time': '2017-09-19T03:07:08.983413546Z',\n",
       "  'timeInForce': 'GTC',\n",
       "  'triggerCondition': 'DEFAULT',\n",
       "  'type': 'STOP_ORDER',\n",
       "  'units': '100',\n",
       "  'userID': 4141160},\n",
       " 'relatedTransactionIDs': ['6163']}"
      ]
     },
     "execution_count": 60,
     "metadata": {},
     "output_type": "execute_result"
    }
   ],
   "source": [
    "order = stop_order('EUR_USD', '100', '1.1970', '1.1960', '1.1980')\n",
    "\n",
    "r = orders.OrderCreate(accountID, data=order)\n",
    "api.request(r)"
   ]
  },
  {
   "cell_type": "code",
   "execution_count": null,
   "metadata": {
    "collapsed": true
   },
   "outputs": [],
   "source": []
  }
 ],
 "metadata": {
  "kernelspec": {
   "display_name": "Python 3",
   "language": "python",
   "name": "python3"
  },
  "language_info": {
   "codemirror_mode": {
    "name": "ipython",
    "version": 3
   },
   "file_extension": ".py",
   "mimetype": "text/x-python",
   "name": "python",
   "nbconvert_exporter": "python",
   "pygments_lexer": "ipython3",
   "version": "3.6.0"
  }
 },
 "nbformat": 4,
 "nbformat_minor": 2
}
