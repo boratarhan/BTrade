{
 "cells": [
  {
   "cell_type": "code",
   "execution_count": 1,
   "metadata": {},
   "outputs": [],
   "source": [
    "# This strategy has been inspired by keeping many trades open for a big win and not closing them while making profit.\n",
    "# Idea is to create an intraday strategy that takes advantage of random movements in a short time period.\n",
    "# Strategy ideally gets into a trade and gets out as soon as it makes as small profit."
   ]
  },
  {
   "cell_type": "code",
   "execution_count": 2,
   "metadata": {},
   "outputs": [],
   "source": [
    "import datetime\n",
    "import pandas as pd\n",
    "import tstables  \n",
    "import tables \n",
    "import _create_research_data as bt_input\n",
    "import numpy as np"
   ]
  },
  {
   "cell_type": "code",
   "execution_count": 3,
   "metadata": {},
   "outputs": [
    {
     "name": "stdout",
     "output_type": "stream",
     "text": [
      "Observations: 63782\n",
      "Training Observations: 42096\n",
      "Testing Observations: 21686\n"
     ]
    }
   ],
   "source": [
    "symbol = 'EUR_USD'\n",
    "granularity = '1H'\n",
    "split_ratio = 0.66\n",
    "\n",
    "rows_train, rows_test = bt_input.split_train_test_data(symbol, granularity, split_ratio)"
   ]
  },
  {
   "cell_type": "code",
   "execution_count": 4,
   "metadata": {},
   "outputs": [
    {
     "data": {
      "text/html": [
       "<div>\n",
       "<style scoped>\n",
       "    .dataframe tbody tr th:only-of-type {\n",
       "        vertical-align: middle;\n",
       "    }\n",
       "\n",
       "    .dataframe tbody tr th {\n",
       "        vertical-align: top;\n",
       "    }\n",
       "\n",
       "    .dataframe thead th {\n",
       "        text-align: right;\n",
       "    }\n",
       "</style>\n",
       "<table border=\"1\" class=\"dataframe\">\n",
       "  <thead>\n",
       "    <tr style=\"text-align: right;\">\n",
       "      <th></th>\n",
       "      <th>ask_o</th>\n",
       "      <th>ask_h</th>\n",
       "      <th>ask_l</th>\n",
       "      <th>ask_c</th>\n",
       "      <th>bid_o</th>\n",
       "      <th>bid_h</th>\n",
       "      <th>bid_l</th>\n",
       "      <th>bid_c</th>\n",
       "      <th>volume</th>\n",
       "    </tr>\n",
       "    <tr>\n",
       "      <th>date</th>\n",
       "      <th></th>\n",
       "      <th></th>\n",
       "      <th></th>\n",
       "      <th></th>\n",
       "      <th></th>\n",
       "      <th></th>\n",
       "      <th></th>\n",
       "      <th></th>\n",
       "      <th></th>\n",
       "    </tr>\n",
       "  </thead>\n",
       "  <tbody>\n",
       "    <tr>\n",
       "      <th>2016-07-05 01:00:00</th>\n",
       "      <td>1.11347</td>\n",
       "      <td>1.11364</td>\n",
       "      <td>1.11260</td>\n",
       "      <td>1.11283</td>\n",
       "      <td>1.11332</td>\n",
       "      <td>1.11349</td>\n",
       "      <td>1.11244</td>\n",
       "      <td>1.11267</td>\n",
       "      <td>1499</td>\n",
       "    </tr>\n",
       "    <tr>\n",
       "      <th>2016-07-05 02:00:00</th>\n",
       "      <td>1.11282</td>\n",
       "      <td>1.11343</td>\n",
       "      <td>1.11260</td>\n",
       "      <td>1.11323</td>\n",
       "      <td>1.11268</td>\n",
       "      <td>1.11328</td>\n",
       "      <td>1.11245</td>\n",
       "      <td>1.11308</td>\n",
       "      <td>560</td>\n",
       "    </tr>\n",
       "    <tr>\n",
       "      <th>2016-07-05 03:00:00</th>\n",
       "      <td>1.11321</td>\n",
       "      <td>1.11354</td>\n",
       "      <td>1.11294</td>\n",
       "      <td>1.11332</td>\n",
       "      <td>1.11307</td>\n",
       "      <td>1.11339</td>\n",
       "      <td>1.11279</td>\n",
       "      <td>1.11319</td>\n",
       "      <td>686</td>\n",
       "    </tr>\n",
       "    <tr>\n",
       "      <th>2016-07-05 04:00:00</th>\n",
       "      <td>1.11334</td>\n",
       "      <td>1.11367</td>\n",
       "      <td>1.11238</td>\n",
       "      <td>1.11245</td>\n",
       "      <td>1.11320</td>\n",
       "      <td>1.11352</td>\n",
       "      <td>1.11223</td>\n",
       "      <td>1.11230</td>\n",
       "      <td>1016</td>\n",
       "    </tr>\n",
       "    <tr>\n",
       "      <th>2016-07-05 05:00:00</th>\n",
       "      <td>1.11248</td>\n",
       "      <td>1.11348</td>\n",
       "      <td>1.11238</td>\n",
       "      <td>1.11282</td>\n",
       "      <td>1.11232</td>\n",
       "      <td>1.11334</td>\n",
       "      <td>1.11223</td>\n",
       "      <td>1.11266</td>\n",
       "      <td>1069</td>\n",
       "    </tr>\n",
       "  </tbody>\n",
       "</table>\n",
       "</div>"
      ],
      "text/plain": [
       "                       ask_o    ask_h    ask_l    ask_c    bid_o    bid_h  \\\n",
       "date                                                                        \n",
       "2016-07-05 01:00:00  1.11347  1.11364  1.11260  1.11283  1.11332  1.11349   \n",
       "2016-07-05 02:00:00  1.11282  1.11343  1.11260  1.11323  1.11268  1.11328   \n",
       "2016-07-05 03:00:00  1.11321  1.11354  1.11294  1.11332  1.11307  1.11339   \n",
       "2016-07-05 04:00:00  1.11334  1.11367  1.11238  1.11245  1.11320  1.11352   \n",
       "2016-07-05 05:00:00  1.11248  1.11348  1.11238  1.11282  1.11232  1.11334   \n",
       "\n",
       "                       bid_l    bid_c  volume  \n",
       "date                                           \n",
       "2016-07-05 01:00:00  1.11244  1.11267    1499  \n",
       "2016-07-05 02:00:00  1.11245  1.11308     560  \n",
       "2016-07-05 03:00:00  1.11279  1.11319     686  \n",
       "2016-07-05 04:00:00  1.11223  1.11230    1016  \n",
       "2016-07-05 05:00:00  1.11223  1.11266    1069  "
      ]
     },
     "execution_count": 4,
     "metadata": {},
     "output_type": "execute_result"
    }
   ],
   "source": [
    "rows_train.tail()"
   ]
  },
  {
   "cell_type": "code",
   "execution_count": 5,
   "metadata": {},
   "outputs": [],
   "source": [
    "df_train=rows_train[['bid_o','bid_h','bid_l','bid_c']]"
   ]
  },
  {
   "cell_type": "code",
   "execution_count": 6,
   "metadata": {},
   "outputs": [
    {
     "data": {
      "text/plain": [
       "<matplotlib.axes._subplots.AxesSubplot at 0x26824f21408>"
      ]
     },
     "execution_count": 6,
     "metadata": {},
     "output_type": "execute_result"
    },
    {
     "data": {
      "image/png": "[encoded data removed]",
      "text/plain": [
       "<Figure size 432x288 with 1 Axes>"
      ]
     },
     "metadata": {
      "needs_background": "light"
     },
     "output_type": "display_data"
    }
   ],
   "source": [
    "df_train.plot()"
   ]
  },
  {
   "cell_type": "code",
   "execution_count": 7,
   "metadata": {},
   "outputs": [
    {
     "name": "stderr",
     "output_type": "stream",
     "text": [
      "C:\\Users\\bora\\Anaconda3\\lib\\site-packages\\pandas\\core\\indexing.py:376: SettingWithCopyWarning: \n",
      "A value is trying to be set on a copy of a slice from a DataFrame.\n",
      "Try using .loc[row_indexer,col_indexer] = value instead\n",
      "\n",
      "See the caveats in the documentation: http://pandas.pydata.org/pandas-docs/stable/user_guide/indexing.html#returning-a-view-versus-a-copy\n",
      "  self.obj[key] = _infer_fill_value(value)\n",
      "C:\\Users\\bora\\Anaconda3\\lib\\site-packages\\pandas\\core\\indexing.py:576: SettingWithCopyWarning: \n",
      "A value is trying to be set on a copy of a slice from a DataFrame.\n",
      "Try using .loc[row_indexer,col_indexer] = value instead\n",
      "\n",
      "See the caveats in the documentation: http://pandas.pydata.org/pandas-docs/stable/user_guide/indexing.html#returning-a-view-versus-a-copy\n",
      "  self.obj[item_labels[indexer[info_axis]]] = value\n"
     ]
    }
   ],
   "source": [
    "df_train.loc[:,'H-L']=df_train['bid_h']-df_train['bid_l']\n",
    "df_train.loc[:,'cum-move']=df_train['H-L'].rolling(13).sum()\n",
    "df_train.loc[:,'net-move']=np.abs(df_train['bid_c'] - df_train['bid_c'].shift(12))"
   ]
  },
  {
   "cell_type": "code",
   "execution_count": 8,
   "metadata": {},
   "outputs": [
    {
     "data": {
      "text/plain": [
       "<matplotlib.axes._subplots.AxesSubplot at 0x26825563e08>"
      ]
     },
     "execution_count": 8,
     "metadata": {},
     "output_type": "execute_result"
    },
    {
     "data": {
      "image/png": "[encoded data removed]",
      "text/plain": [
       "<Figure size 432x288 with 1 Axes>"
      ]
     },
     "metadata": {
      "needs_background": "light"
     },
     "output_type": "display_data"
    }
   ],
   "source": [
    "df_train.plot.scatter(x='net-move', y='cum-move')"
   ]
  },
  {
   "cell_type": "code",
   "execution_count": null,
   "metadata": {},
   "outputs": [],
   "source": []
  },
  {
   "cell_type": "code",
   "execution_count": null,
   "metadata": {},
   "outputs": [],
   "source": []
  }
 ],
 "metadata": {
  "kernelspec": {
   "display_name": "Python 3",
   "language": "python",
   "name": "python3"
  },
  "language_info": {
   "codemirror_mode": {
    "name": "ipython",
    "version": 3
   },
   "file_extension": ".py",
   "mimetype": "text/x-python",
   "name": "python",
   "nbconvert_exporter": "python",
   "pygments_lexer": "ipython3",
   "version": "3.8.5"
  }
 },
 "nbformat": 4,
 "nbformat_minor": 2
}
